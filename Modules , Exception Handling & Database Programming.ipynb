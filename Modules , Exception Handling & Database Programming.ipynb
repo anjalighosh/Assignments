{
 "cells": [
  {
   "cell_type": "code",
   "execution_count": 1,
   "metadata": {},
   "outputs": [],
   "source": [
    "# compute 5/0 create exceptions\n"
   ]
  },
  {
   "cell_type": "code",
   "execution_count": 5,
   "metadata": {},
   "outputs": [
    {
     "name": "stdout",
     "output_type": "stream",
     "text": [
      "division by zero\n"
     ]
    }
   ],
   "source": [
    "try:\n",
    "    a= 5/0\n",
    "    print(a)\n",
    "    \n",
    "except Exception as e:\n",
    "    print(e)\n",
    "    "
   ]
  },
  {
   "cell_type": "code",
   "execution_count": 24,
   "metadata": {},
   "outputs": [
    {
     "name": "stdout",
     "output_type": "stream",
     "text": [
      "Americans play Baseball\n",
      "Americans play Cricket\n",
      "Indians watch Cricket\n",
      "Indians play Cricket\n",
      "Indians watch Baseball\n",
      "Indians watch Cricket\n"
     ]
    }
   ],
   "source": [
    "subjects=[\"Americans \",\"Indians\"]\n",
    "verbs=[\"play\",\"watch\"]\n",
    "objects=[\"Baseball\",\"Cricket\"]\n",
    "\n",
    "baseball = subjects[0] + verbs[0] + ' '+ objects[0]\n",
    "print(baseball)\n",
    "cricket = subjects[0] + verbs[0] + ' '+ objects[1]\n",
    "print(cricket)\n",
    "base = subjects[1] + ' '+ verbs[1] + ' '+ objects[1]\n",
    "print(base)\n",
    "ind = subjects[1] +' '+ verbs[0] + ' '+ objects[1]\n",
    "print(ind)\n",
    "ind_b = subjects[1] +' '+ verbs[1] + ' '+ objects[0]\n",
    "print(ind_b)\n",
    "ind_c = subjects[1]+' ' + verbs[1] + ' '+ objects[1]\n",
    "print(ind_c)"
   ]
  }
 ],
 "metadata": {
  "kernelspec": {
   "display_name": "Python 3",
   "language": "python",
   "name": "python3"
  },
  "language_info": {
   "codemirror_mode": {
    "name": "ipython",
    "version": 3
   },
   "file_extension": ".py",
   "mimetype": "text/x-python",
   "name": "python",
   "nbconvert_exporter": "python",
   "pygments_lexer": "ipython3",
   "version": "3.8.3"
  }
 },
 "nbformat": 4,
 "nbformat_minor": 4
}
